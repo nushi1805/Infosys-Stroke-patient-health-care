{
 "cells": [
  {
   "cell_type": "code",
   "execution_count": 1,
   "id": "47ad4795-85e3-43f6-96dd-23c962a6d708",
   "metadata": {},
   "outputs": [],
   "source": [
    "import pandas as pd"
   ]
  },
  {
   "cell_type": "code",
   "execution_count": 3,
   "id": "31edebe9-8d40-47c1-b13b-467dbf1eb942",
   "metadata": {},
   "outputs": [],
   "source": [
    "import numpy as np"
   ]
  },
  {
   "cell_type": "code",
   "execution_count": 9,
   "id": "fcb6f983-91e7-4bfc-80c4-bfd14a1dc62d",
   "metadata": {},
   "outputs": [],
   "source": [
    "data = pd.read_csv('healthcare-dataset-stroke-data.csv')"
   ]
  },
  {
   "cell_type": "markdown",
   "id": "1f2ab33e-4185-434c-9fda-aa6de64a4cfb",
   "metadata": {},
   "source": [
    "Describing numerical data"
   ]
  },
  {
   "cell_type": "code",
   "execution_count": 16,
   "id": "64224bd2-819e-44f9-ad7e-ba02acbb4152",
   "metadata": {},
   "outputs": [
    {
     "data": {
      "text/html": [
       "<div>\n",
       "<style scoped>\n",
       "    .dataframe tbody tr th:only-of-type {\n",
       "        vertical-align: middle;\n",
       "    }\n",
       "\n",
       "    .dataframe tbody tr th {\n",
       "        vertical-align: top;\n",
       "    }\n",
       "\n",
       "    .dataframe thead th {\n",
       "        text-align: right;\n",
       "    }\n",
       "</style>\n",
       "<table border=\"1\" class=\"dataframe\">\n",
       "  <thead>\n",
       "    <tr style=\"text-align: right;\">\n",
       "      <th></th>\n",
       "      <th>id</th>\n",
       "      <th>age</th>\n",
       "      <th>hypertension</th>\n",
       "      <th>heart_disease</th>\n",
       "      <th>avg_glucose_level</th>\n",
       "      <th>bmi</th>\n",
       "      <th>stroke</th>\n",
       "    </tr>\n",
       "  </thead>\n",
       "  <tbody>\n",
       "    <tr>\n",
       "      <th>count</th>\n",
       "      <td>5110.000000</td>\n",
       "      <td>5110.000000</td>\n",
       "      <td>5110.000000</td>\n",
       "      <td>5110.000000</td>\n",
       "      <td>5110.000000</td>\n",
       "      <td>4909.000000</td>\n",
       "      <td>5110.000000</td>\n",
       "    </tr>\n",
       "    <tr>\n",
       "      <th>mean</th>\n",
       "      <td>36517.829354</td>\n",
       "      <td>43.226614</td>\n",
       "      <td>0.097456</td>\n",
       "      <td>0.054012</td>\n",
       "      <td>106.147677</td>\n",
       "      <td>28.893237</td>\n",
       "      <td>0.048728</td>\n",
       "    </tr>\n",
       "    <tr>\n",
       "      <th>std</th>\n",
       "      <td>21161.721625</td>\n",
       "      <td>22.612647</td>\n",
       "      <td>0.296607</td>\n",
       "      <td>0.226063</td>\n",
       "      <td>45.283560</td>\n",
       "      <td>7.854067</td>\n",
       "      <td>0.215320</td>\n",
       "    </tr>\n",
       "    <tr>\n",
       "      <th>min</th>\n",
       "      <td>67.000000</td>\n",
       "      <td>0.080000</td>\n",
       "      <td>0.000000</td>\n",
       "      <td>0.000000</td>\n",
       "      <td>55.120000</td>\n",
       "      <td>10.300000</td>\n",
       "      <td>0.000000</td>\n",
       "    </tr>\n",
       "    <tr>\n",
       "      <th>25%</th>\n",
       "      <td>17741.250000</td>\n",
       "      <td>25.000000</td>\n",
       "      <td>0.000000</td>\n",
       "      <td>0.000000</td>\n",
       "      <td>77.245000</td>\n",
       "      <td>23.500000</td>\n",
       "      <td>0.000000</td>\n",
       "    </tr>\n",
       "    <tr>\n",
       "      <th>50%</th>\n",
       "      <td>36932.000000</td>\n",
       "      <td>45.000000</td>\n",
       "      <td>0.000000</td>\n",
       "      <td>0.000000</td>\n",
       "      <td>91.885000</td>\n",
       "      <td>28.100000</td>\n",
       "      <td>0.000000</td>\n",
       "    </tr>\n",
       "    <tr>\n",
       "      <th>75%</th>\n",
       "      <td>54682.000000</td>\n",
       "      <td>61.000000</td>\n",
       "      <td>0.000000</td>\n",
       "      <td>0.000000</td>\n",
       "      <td>114.090000</td>\n",
       "      <td>33.100000</td>\n",
       "      <td>0.000000</td>\n",
       "    </tr>\n",
       "    <tr>\n",
       "      <th>max</th>\n",
       "      <td>72940.000000</td>\n",
       "      <td>82.000000</td>\n",
       "      <td>1.000000</td>\n",
       "      <td>1.000000</td>\n",
       "      <td>271.740000</td>\n",
       "      <td>97.600000</td>\n",
       "      <td>1.000000</td>\n",
       "    </tr>\n",
       "  </tbody>\n",
       "</table>\n",
       "</div>"
      ],
      "text/plain": [
       "                 id          age  hypertension  heart_disease  \\\n",
       "count   5110.000000  5110.000000   5110.000000    5110.000000   \n",
       "mean   36517.829354    43.226614      0.097456       0.054012   \n",
       "std    21161.721625    22.612647      0.296607       0.226063   \n",
       "min       67.000000     0.080000      0.000000       0.000000   \n",
       "25%    17741.250000    25.000000      0.000000       0.000000   \n",
       "50%    36932.000000    45.000000      0.000000       0.000000   \n",
       "75%    54682.000000    61.000000      0.000000       0.000000   \n",
       "max    72940.000000    82.000000      1.000000       1.000000   \n",
       "\n",
       "       avg_glucose_level          bmi       stroke  \n",
       "count        5110.000000  4909.000000  5110.000000  \n",
       "mean          106.147677    28.893237     0.048728  \n",
       "std            45.283560     7.854067     0.215320  \n",
       "min            55.120000    10.300000     0.000000  \n",
       "25%            77.245000    23.500000     0.000000  \n",
       "50%            91.885000    28.100000     0.000000  \n",
       "75%           114.090000    33.100000     0.000000  \n",
       "max           271.740000    97.600000     1.000000  "
      ]
     },
     "execution_count": 16,
     "metadata": {},
     "output_type": "execute_result"
    }
   ],
   "source": [
    "num_desc = data.describe()\n",
    "num_desc"
   ]
  },
  {
   "cell_type": "markdown",
   "id": "9f49a13a-84e7-4869-9fe7-e669150dc771",
   "metadata": {},
   "source": [
    "Describe data info"
   ]
  },
  {
   "cell_type": "code",
   "execution_count": 18,
   "id": "5e846a70-e1d8-4564-a019-a1590839c469",
   "metadata": {},
   "outputs": [
    {
     "name": "stdout",
     "output_type": "stream",
     "text": [
      "<class 'pandas.core.frame.DataFrame'>\n",
      "RangeIndex: 5110 entries, 0 to 5109\n",
      "Data columns (total 12 columns):\n",
      " #   Column             Non-Null Count  Dtype  \n",
      "---  ------             --------------  -----  \n",
      " 0   id                 5110 non-null   int64  \n",
      " 1   gender             5110 non-null   object \n",
      " 2   age                5110 non-null   float64\n",
      " 3   hypertension       5110 non-null   int64  \n",
      " 4   heart_disease      5110 non-null   int64  \n",
      " 5   ever_married       5110 non-null   object \n",
      " 6   work_type          5110 non-null   object \n",
      " 7   Residence_type     5110 non-null   object \n",
      " 8   avg_glucose_level  5110 non-null   float64\n",
      " 9   bmi                4909 non-null   float64\n",
      " 10  smoking_status     5110 non-null   object \n",
      " 11  stroke             5110 non-null   int64  \n",
      "dtypes: float64(3), int64(4), object(5)\n",
      "memory usage: 479.2+ KB\n"
     ]
    }
   ],
   "source": [
    "data_info = data.info()"
   ]
  },
  {
   "cell_type": "markdown",
   "id": "feb5fdc7-6b70-43ec-bcf4-ab862d6b60e3",
   "metadata": {},
   "source": [
    "Describe data Shape"
   ]
  },
  {
   "cell_type": "code",
   "execution_count": 24,
   "id": "b840d1ee-1d97-4f80-91cd-967fc2752fed",
   "metadata": {},
   "outputs": [
    {
     "data": {
      "text/plain": [
       "(5110, 12)"
      ]
     },
     "execution_count": 24,
     "metadata": {},
     "output_type": "execute_result"
    }
   ],
   "source": [
    "data_shape = data.shape\n",
    "data_shape"
   ]
  },
  {
   "cell_type": "code",
   "execution_count": null,
   "id": "8902d9f4-0a50-40e8-bb98-5f8705da889f",
   "metadata": {},
   "outputs": [],
   "source": [
    "Describe categorical data"
   ]
  },
  {
   "cell_type": "code",
   "execution_count": 28,
   "id": "e29fb2e0-d40e-45c9-ac69-cd9deddb023d",
   "metadata": {},
   "outputs": [
    {
     "data": {
      "text/html": [
       "<div>\n",
       "<style scoped>\n",
       "    .dataframe tbody tr th:only-of-type {\n",
       "        vertical-align: middle;\n",
       "    }\n",
       "\n",
       "    .dataframe tbody tr th {\n",
       "        vertical-align: top;\n",
       "    }\n",
       "\n",
       "    .dataframe thead th {\n",
       "        text-align: right;\n",
       "    }\n",
       "</style>\n",
       "<table border=\"1\" class=\"dataframe\">\n",
       "  <thead>\n",
       "    <tr style=\"text-align: right;\">\n",
       "      <th></th>\n",
       "      <th>gender</th>\n",
       "      <th>ever_married</th>\n",
       "      <th>work_type</th>\n",
       "      <th>Residence_type</th>\n",
       "      <th>smoking_status</th>\n",
       "    </tr>\n",
       "  </thead>\n",
       "  <tbody>\n",
       "    <tr>\n",
       "      <th>count</th>\n",
       "      <td>5110</td>\n",
       "      <td>5110</td>\n",
       "      <td>5110</td>\n",
       "      <td>5110</td>\n",
       "      <td>5110</td>\n",
       "    </tr>\n",
       "    <tr>\n",
       "      <th>unique</th>\n",
       "      <td>3</td>\n",
       "      <td>2</td>\n",
       "      <td>5</td>\n",
       "      <td>2</td>\n",
       "      <td>4</td>\n",
       "    </tr>\n",
       "    <tr>\n",
       "      <th>top</th>\n",
       "      <td>Female</td>\n",
       "      <td>Yes</td>\n",
       "      <td>Private</td>\n",
       "      <td>Urban</td>\n",
       "      <td>never smoked</td>\n",
       "    </tr>\n",
       "    <tr>\n",
       "      <th>freq</th>\n",
       "      <td>2994</td>\n",
       "      <td>3353</td>\n",
       "      <td>2925</td>\n",
       "      <td>2596</td>\n",
       "      <td>1892</td>\n",
       "    </tr>\n",
       "  </tbody>\n",
       "</table>\n",
       "</div>"
      ],
      "text/plain": [
       "        gender ever_married work_type Residence_type smoking_status\n",
       "count     5110         5110      5110           5110           5110\n",
       "unique       3            2         5              2              4\n",
       "top     Female          Yes   Private          Urban   never smoked\n",
       "freq      2994         3353      2925           2596           1892"
      ]
     },
     "execution_count": 28,
     "metadata": {},
     "output_type": "execute_result"
    }
   ],
   "source": [
    "obj_desc = data.describe(include='object')\n",
    "obj_desc"
   ]
  },
  {
   "cell_type": "markdown",
   "id": "fd479a46-3b37-4c1f-88e3-0e4b348d848c",
   "metadata": {},
   "source": [
    "Observations :\n",
    "1.The dataset's general statistics (mean, std, min, max, etc.) help in understanding the distribution of numeric data.\n",
    "2. `data.info()` provides details about each column, data types, and memory usage, which is helpful for identifying columns with missing values or data types that might need conversion.\n",
    "3. The dataset shape shows the number of rows and columns, giving an idea of its dimensionality.\n",
    "4. Descriptive statistics of categorical data give insight into counts, unique values, and top occurrences of each category."
   ]
  },
  {
   "cell_type": "markdown",
   "id": "3305650d-dd39-44b1-abe5-9f2506370233",
   "metadata": {},
   "source": [
    "Handling Null Yalue"
   ]
  },
  {
   "cell_type": "markdown",
   "id": "87dcafb8-9887-4930-9158-4b16cd94abd7",
   "metadata": {},
   "source": [
    " Find unique values per column"
   ]
  },
  {
   "cell_type": "code",
   "execution_count": 40,
   "id": "92f04686-d56c-4de4-a1af-969121ab3331",
   "metadata": {},
   "outputs": [
    {
     "data": {
      "text/plain": [
       "id                   5110\n",
       "gender                  3\n",
       "age                   104\n",
       "hypertension            2\n",
       "heart_disease           2\n",
       "ever_married            2\n",
       "work_type               5\n",
       "Residence_type          2\n",
       "avg_glucose_level    3979\n",
       "bmi                   418\n",
       "smoking_status          4\n",
       "stroke                  2\n",
       "dtype: int64"
      ]
     },
     "execution_count": 40,
     "metadata": {},
     "output_type": "execute_result"
    }
   ],
   "source": [
    "unique_values = data.nunique()\n",
    "unique_values"
   ]
  },
  {
   "cell_type": "markdown",
   "id": "b0cd061b-c2c1-428d-be47-54ca151f54d5",
   "metadata": {},
   "source": [
    "count null values per time"
   ]
  },
  {
   "cell_type": "code",
   "execution_count": 43,
   "id": "4a2934d0-23cc-4313-96e9-5b559f6c7aa7",
   "metadata": {},
   "outputs": [],
   "source": [
    "null_values = data.isnull().sum()"
   ]
  },
  {
   "cell_type": "markdown",
   "id": "7035cd88-b2f0-46c7-851c-c19c5cce65a0",
   "metadata": {},
   "source": [
    "Calculate percentage of null values"
   ]
  },
  {
   "cell_type": "code",
   "execution_count": 48,
   "id": "83d00583-5868-47eb-8fc7-99b7a27d62c9",
   "metadata": {},
   "outputs": [
    {
     "data": {
      "text/plain": [
       "id                   0.000000\n",
       "gender               0.000000\n",
       "age                  0.000000\n",
       "hypertension         0.000000\n",
       "heart_disease        0.000000\n",
       "ever_married         0.000000\n",
       "work_type            0.000000\n",
       "Residence_type       0.000000\n",
       "avg_glucose_level    0.000000\n",
       "bmi                  3.933464\n",
       "smoking_status       0.000000\n",
       "stroke               0.000000\n",
       "dtype: float64"
      ]
     },
     "execution_count": 48,
     "metadata": {},
     "output_type": "execute_result"
    }
   ],
   "source": [
    "null_percentage = (null_values / len(data)) * 100\n",
    "null_percentage"
   ]
  },
  {
   "cell_type": "markdown",
   "id": "0b64d186-211c-4247-a33d-bd43309c5d91",
   "metadata": {},
   "source": [
    "Observations :\n",
    "1.Unique values count helps understand the cardinality of each feature, useful for identifying columns that may require encoding if they are categorical.\n",
    "2. Checking null values and their percentages shows if any column has significant missing data.\n",
    "3. Columns with more than a certain threshold of missing values (e.g., 30%) might be considered for removal, while others might be imputed."
   ]
  },
  {
   "cell_type": "markdown",
   "id": "4a395dc4-d93c-4d01-bdda-5f04919257a3",
   "metadata": {},
   "source": [
    "DEALING WITH NULL VALUES\n",
    "1.Dropping columns with too many missing values\n",
    "2.Imputing with mean/median for numerical columns or mode for categorical columns\n",
    "3.Forward / backward filling "
   ]
  },
  {
   "cell_type": "markdown",
   "id": "5ed04512-ca51-4e68-adf5-0f9da2719a19",
   "metadata": {},
   "source": [
    "Example: Drop columns with >30% null values and fill others"
   ]
  },
  {
   "cell_type": "code",
   "execution_count": 50,
   "id": "28ed4545-9873-4b9c-9cfd-681977339f53",
   "metadata": {},
   "outputs": [],
   "source": [
    "threshold = 30\n",
    "columns_to_drop = null_percentage[null_percentage > threshold].index\n",
    "data_cleaned = data.drop(columns=columns_to_drop)"
   ]
  },
  {
   "cell_type": "markdown",
   "id": "d194a4ec-a9aa-4146-a46d-c084cc07b2cb",
   "metadata": {},
   "source": [
    "Fill remaining null values"
   ]
  },
  {
   "cell_type": "code",
   "execution_count": 54,
   "id": "975fc942-fa66-4148-8171-e486f1bcd98b",
   "metadata": {},
   "outputs": [],
   "source": [
    "for col in data_cleaned.columns:\n",
    "    if data_cleaned[col].dtype == 'object':\n",
    "        data_cleaned[col].fillna(data_cleaned[col].mode()[0], inplace=True)\n",
    "    else:\n",
    "        data_cleaned[col].fillna(data_cleaned[col].mean(), inplace=True)\n"
   ]
  },
  {
   "cell_type": "markdown",
   "id": "5e781711-1a23-4bde-ad00-78f7c448be61",
   "metadata": {},
   "source": [
    "Observations:\n",
    "After dropping columns with excessive null values and imputing remaining ones, the dataset becomes cleaner.\n",
    "This approach ensures minimal data loss while preserving as much information as possible."
   ]
  },
  {
   "cell_type": "markdown",
   "id": "fc147ebc-fff0-4644-9165-ea38a4387fdd",
   "metadata": {},
   "source": [
    "RESULTS"
   ]
  },
  {
   "cell_type": "code",
   "execution_count": 56,
   "id": "bddcfcc9-edb4-4a9f-923a-cfe6d44d73a7",
   "metadata": {},
   "outputs": [
    {
     "name": "stdout",
     "output_type": "stream",
     "text": [
      "Numerical Description:\n",
      "                  id          age  hypertension  heart_disease  \\\n",
      "count   5110.000000  5110.000000   5110.000000    5110.000000   \n",
      "mean   36517.829354    43.226614      0.097456       0.054012   \n",
      "std    21161.721625    22.612647      0.296607       0.226063   \n",
      "min       67.000000     0.080000      0.000000       0.000000   \n",
      "25%    17741.250000    25.000000      0.000000       0.000000   \n",
      "50%    36932.000000    45.000000      0.000000       0.000000   \n",
      "75%    54682.000000    61.000000      0.000000       0.000000   \n",
      "max    72940.000000    82.000000      1.000000       1.000000   \n",
      "\n",
      "       avg_glucose_level          bmi       stroke  \n",
      "count        5110.000000  4909.000000  5110.000000  \n",
      "mean          106.147677    28.893237     0.048728  \n",
      "std            45.283560     7.854067     0.215320  \n",
      "min            55.120000    10.300000     0.000000  \n",
      "25%            77.245000    23.500000     0.000000  \n",
      "50%            91.885000    28.100000     0.000000  \n",
      "75%           114.090000    33.100000     0.000000  \n",
      "max           271.740000    97.600000     1.000000  \n",
      "\n",
      "Data Info:\n",
      " None\n",
      "\n",
      "Dataset Shape: (5110, 12)\n",
      "\n",
      "Categorical Description:\n",
      "         gender ever_married work_type Residence_type smoking_status\n",
      "count     5110         5110      5110           5110           5110\n",
      "unique       3            2         5              2              4\n",
      "top     Female          Yes   Private          Urban   never smoked\n",
      "freq      2994         3353      2925           2596           1892\n",
      "\n",
      "Unique Values per Column:\n",
      " id                   5110\n",
      "gender                  3\n",
      "age                   104\n",
      "hypertension            2\n",
      "heart_disease           2\n",
      "ever_married            2\n",
      "work_type               5\n",
      "Residence_type          2\n",
      "avg_glucose_level    3979\n",
      "bmi                   418\n",
      "smoking_status          4\n",
      "stroke                  2\n",
      "dtype: int64\n",
      "\n",
      "Null Values per Column:\n",
      " id                     0\n",
      "gender                 0\n",
      "age                    0\n",
      "hypertension           0\n",
      "heart_disease          0\n",
      "ever_married           0\n",
      "work_type              0\n",
      "Residence_type         0\n",
      "avg_glucose_level      0\n",
      "bmi                  201\n",
      "smoking_status         0\n",
      "stroke                 0\n",
      "dtype: int64\n",
      "\n",
      "Percentage of Null Values per Column:\n",
      " id                   0.000000\n",
      "gender               0.000000\n",
      "age                  0.000000\n",
      "hypertension         0.000000\n",
      "heart_disease        0.000000\n",
      "ever_married         0.000000\n",
      "work_type            0.000000\n",
      "Residence_type       0.000000\n",
      "avg_glucose_level    0.000000\n",
      "bmi                  3.933464\n",
      "smoking_status       0.000000\n",
      "stroke               0.000000\n",
      "dtype: float64\n",
      "\n",
      "Columns Dropped (if any): Index([], dtype='object')\n"
     ]
    }
   ],
   "source": [
    "print(\"Numerical Description:\\n\", num_desc)\n",
    "print(\"\\nData Info:\\n\", data_info)\n",
    "print(\"\\nDataset Shape:\", data_shape)\n",
    "print(\"\\nCategorical Description:\\n\", obj_desc)\n",
    "print(\"\\nUnique Values per Column:\\n\", unique_values)\n",
    "print(\"\\nNull Values per Column:\\n\", null_values)\n",
    "print(\"\\nPercentage of Null Values per Column:\\n\", null_percentage)\n",
    "print(\"\\nColumns Dropped (if any):\", columns_to_drop)"
   ]
  },
  {
   "cell_type": "code",
   "execution_count": null,
   "id": "c3e25801-f10e-4474-9133-fe264557c315",
   "metadata": {},
   "outputs": [],
   "source": []
  }
 ],
 "metadata": {
  "kernelspec": {
   "display_name": "Python 3 (ipykernel)",
   "language": "python",
   "name": "python3"
  },
  "language_info": {
   "codemirror_mode": {
    "name": "ipython",
    "version": 3
   },
   "file_extension": ".py",
   "mimetype": "text/x-python",
   "name": "python",
   "nbconvert_exporter": "python",
   "pygments_lexer": "ipython3",
   "version": "3.11.7"
  }
 },
 "nbformat": 4,
 "nbformat_minor": 5
}
